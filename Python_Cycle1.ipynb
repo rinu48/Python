{
  "nbformat": 4,
  "nbformat_minor": 0,
  "metadata": {
    "colab": {
      "name": "Python Cycle1",
      "provenance": [],
      "authorship_tag": "ABX9TyNDkQwGwlYBGm8QFcz+Ic3q",
      "include_colab_link": true
    },
    "kernelspec": {
      "name": "python3",
      "display_name": "Python 3"
    }
  },
  "cells": [
    {
      "cell_type": "markdown",
      "metadata": {
        "id": "view-in-github",
        "colab_type": "text"
      },
      "source": [
        "<a href=\"https://colab.research.google.com/github/rinu48/Python/blob/main/Python_Cycle1.ipynb\" target=\"_parent\"><img src=\"https://colab.research.google.com/assets/colab-badge.svg\" alt=\"Open In Colab\"/></a>"
      ]
    },
    {
      "cell_type": "markdown",
      "metadata": {
        "id": "yJg8j3c23zT4"
      },
      "source": [
        "Q1. Write a program to display\r\n",
        "\"Hello, World!\"
      ]
    },
    {
      "cell_type": "code",
      "metadata": {
        "colab": {
          "base_uri": "https://localhost:8080/"
        },
        "id": "GxioxFj75TFi",
        "outputId": "4138505d-c0a4-4b6f-c571-28acb5be20db"
      },
      "source": [
        "print(\"hello world\")"
      ],
      "execution_count": 41,
      "outputs": [
        {
          "output_type": "stream",
          "text": [
            "hello world\n"
          ],
          "name": "stdout"
        }
      ]
    },
    {
      "cell_type": "markdown",
      "metadata": {
        "id": "NlyEt_LS5ZCv"
      },
      "source": [
        "Q2. Program to Print an Integer (Entered by the User)"
      ]
    },
    {
      "cell_type": "code",
      "metadata": {
        "colab": {
          "base_uri": "https://localhost:8080/"
        },
        "id": "bss_AHum5kjF",
        "outputId": "7e3b6b1a-09ae-4f3b-d7d9-aed3238d94b9"
      },
      "source": [
        "a=int(input(\"enter the integer:\"))\r\n",
        "print(a)"
      ],
      "execution_count": 42,
      "outputs": [
        {
          "output_type": "stream",
          "text": [
            "enter the integer:3\n",
            "3\n"
          ],
          "name": "stdout"
        }
      ]
    },
    {
      "cell_type": "markdown",
      "metadata": {
        "id": "T_BF_mkx5x_b"
      },
      "source": [
        "Q3. Program to Add Two Integers"
      ]
    },
    {
      "cell_type": "code",
      "metadata": {
        "colab": {
          "base_uri": "https://localhost:8080/"
        },
        "id": "MJdtNtwy54hR",
        "outputId": "714117b8-a0d1-4d9c-cd00-e0c4a4eac7b8"
      },
      "source": [
        "a=int(input(\"Enter first number:\"))\r\n",
        "b=int(input(\"Enter second number:\"))\r\n",
        "sum = a+b\r\n",
        "print(\"sum :\",sum)"
      ],
      "execution_count": 43,
      "outputs": [
        {
          "output_type": "stream",
          "text": [
            "Enter first number:3\n",
            "Enter second number:4\n",
            "sum : 7\n"
          ],
          "name": "stdout"
        }
      ]
    },
    {
      "cell_type": "markdown",
      "metadata": {
        "id": "DBJwiIlo6Bd4"
      },
      "source": [
        "Q4. Program to Multiply Two Floating-Point Numbers"
      ]
    },
    {
      "cell_type": "code",
      "metadata": {
        "id": "F41LOmmG6fPw",
        "outputId": "0dd63379-c1b3-4b3d-c873-6e799d544406",
        "colab": {
          "base_uri": "https://localhost:8080/"
        }
      },
      "source": [
        "num1=float(input(\"Enter first number: \"))\r\n",
        "num2=float(input(\"Enter second number: \"))\r\n",
        "mul=num1*num2\r\n",
        "print(\"the product of given numbers is:\",mul)"
      ],
      "execution_count": 44,
      "outputs": [
        {
          "output_type": "stream",
          "text": [
            "Enter first number: 34\n",
            "Enter second number: 2\n",
            "the product of given numbers is: 68.0\n"
          ],
          "name": "stdout"
        }
      ]
    },
    {
      "cell_type": "markdown",
      "metadata": {
        "id": "RRD1cKK26oBW"
      },
      "source": [
        "Q5. Program to Compute Quotient and Remainder"
      ]
    },
    {
      "cell_type": "code",
      "metadata": {
        "id": "E8W7oZV96vP7",
        "outputId": "eba4683d-986a-47b0-8fbf-a7274918dff7",
        "colab": {
          "base_uri": "https://localhost:8080/"
        }
      },
      "source": [
        "a = int(input(\"Enter the first number: \"))\r\n",
        "b = int(input(\"Enter the second number: \"))\r\n",
        "quotient = a//b\r\n",
        "remainder = a%b\r\n",
        "print(\"Quotient is:\", quotient)\r\n",
        "print(\"Remainder is:\", remainder)"
      ],
      "execution_count": 45,
      "outputs": [
        {
          "output_type": "stream",
          "text": [
            "Enter the first number: 4\n",
            "Enter the second number: 2\n",
            "Quotient is: 2\n",
            "Remainder is: 0\n"
          ],
          "name": "stdout"
        }
      ]
    },
    {
      "cell_type": "markdown",
      "metadata": {
        "id": "kMqbsU6k63uo"
      },
      "source": [
        "Q6. Program to Swap Two Numbers"
      ]
    },
    {
      "cell_type": "code",
      "metadata": {
        "id": "82J5Etbw6_E9",
        "outputId": "f5b250bc-3bfe-475a-f5dc-1e305e5aeb6f",
        "colab": {
          "base_uri": "https://localhost:8080/"
        }
      },
      "source": [
        "num1 = (input(\"Enter First Number: \"))\r\n",
        "num2 = (input(\"Enter Second Number: \"))\r\n",
        "print(\"Value of num1 before swapping: \", num1)\r\n",
        "print(\"Value of num2 before swapping: \", num2)\r\n",
        "temp = num1\r\n",
        "num1 = num2\r\n",
        "num2 = temp\r\n",
        "print(\"Value of num1 after swapping: \", num1)\r\n",
        "print(\"Value of num2 after swapping: \", num2)"
      ],
      "execution_count": 46,
      "outputs": [
        {
          "output_type": "stream",
          "text": [
            "Enter First Number: 34\n",
            "Enter Second Number: 45\n",
            "Value of num1 before swapping:  34\n",
            "Value of num2 before swapping:  45\n",
            "Value of num1 after swapping:  45\n",
            "Value of num2 after swapping:  34\n"
          ],
          "name": "stdout"
        }
      ]
    },
    {
      "cell_type": "markdown",
      "metadata": {
        "id": "bMSYxMq_7Ihm"
      },
      "source": [
        "Q7. Program to Check Whether a Number is Even or Odd"
      ]
    },
    {
      "cell_type": "code",
      "metadata": {
        "id": "iezqcXG58Fw0",
        "outputId": "0b84b5d0-0a95-4214-9048-a3f7e989fd52",
        "colab": {
          "base_uri": "https://localhost:8080/"
        }
      },
      "source": [
        "num = int(input(\"Enter a number: \"))\r\n",
        "if (num % 2) == 0:\r\n",
        "   print(\"{0} is Even\".format(num))\r\n",
        "else:\r\n",
        "   print(\"{0} is Odd\".format(num))"
      ],
      "execution_count": 47,
      "outputs": [
        {
          "output_type": "stream",
          "text": [
            "Enter a number: 3\n",
            "3 is Odd\n"
          ],
          "name": "stdout"
        }
      ]
    },
    {
      "cell_type": "markdown",
      "metadata": {
        "id": "krXN2yMp8KFz"
      },
      "source": [
        "Q8. Program to Check Whether a Character is a Vowel or Consonant"
      ]
    },
    {
      "cell_type": "code",
      "metadata": {
        "id": "vkkdp-IP8_ql",
        "outputId": "1dd3bf05-9f67-4e55-a333-f86c9d678505",
        "colab": {
          "base_uri": "https://localhost:8080/"
        }
      },
      "source": [
        "ch = input(\"Enter a character: \")\r\n",
        "\r\n",
        "if(ch=='A' or ch=='a' or ch=='E' or ch =='e' or ch=='I'\r\n",
        " or ch=='i' or ch=='O' or ch=='o' or ch=='U' or ch=='u'):\r\n",
        "    print(ch, \"is a Vowel\")\r\n",
        "else:\r\n",
        "    print(ch, \"is a Consonant\")"
      ],
      "execution_count": 48,
      "outputs": [
        {
          "output_type": "stream",
          "text": [
            "Enter a character: i\n",
            "i is a Vowel\n"
          ],
          "name": "stdout"
        }
      ]
    },
    {
      "cell_type": "markdown",
      "metadata": {
        "id": "pmIg7OpY9eRs"
      },
      "source": [
        "Q9. Program to Find the Largest Number Among Three Numbers"
      ]
    },
    {
      "cell_type": "code",
      "metadata": {
        "id": "0_4_X5Cl9lZQ",
        "outputId": "3d0d0d33-77c0-46f7-8e47-d0c69382aaf2",
        "colab": {
          "base_uri": "https://localhost:8080/"
        }
      },
      "source": [
        "num1 = float(input(\"Enter first number: \"))\r\n",
        "num2 = float(input(\"Enter second number: \"))\r\n",
        "num3 = float(input(\"Enter third number: \"))\r\n",
        "if (num1 >= num2) and (num1 >= num3):\r\n",
        "   largest = num1\r\n",
        "elif (num2 >= num1) and (num2 >= num3):\r\n",
        "   largest = num2\r\n",
        "else:\r\n",
        "   largest = num3\r\n",
        "print(\"The largest number is\", largest)"
      ],
      "execution_count": 49,
      "outputs": [
        {
          "output_type": "stream",
          "text": [
            "Enter first number: 12\n",
            "Enter second number: 3\n",
            "Enter third number: 14\n",
            "The largest number is 14.0\n"
          ],
          "name": "stdout"
        }
      ]
    },
    {
      "cell_type": "markdown",
      "metadata": {
        "id": "S7PBTKyn92cl"
      },
      "source": [
        "Q10. Program to Check Leap Year"
      ]
    },
    {
      "cell_type": "code",
      "metadata": {
        "id": "6r9V-DKf97cK",
        "outputId": "f7fc9f98-af38-4270-d9a6-eade635777ab",
        "colab": {
          "base_uri": "https://localhost:8080/"
        }
      },
      "source": [
        "year = int(input(\"Enter a year: \"))\r\n",
        "if (year % 4) == 0:\r\n",
        "   if (year % 100) == 0:\r\n",
        "       if (year % 400) == 0:\r\n",
        "           print(\"{0} is a leap year\".format(year))\r\n",
        "       else:\r\n",
        "           print(\"{0} is not a leap year\".format(year))\r\n",
        "   else:\r\n",
        "       print(\"{0} is a leap year\".format(year))\r\n",
        "else:\r\n",
        "   print(\"{0} is not a leap year\".format(year))"
      ],
      "execution_count": 50,
      "outputs": [
        {
          "output_type": "stream",
          "text": [
            "Enter a year: 2013\n",
            "2013 is not a leap year\n"
          ],
          "name": "stdout"
        }
      ]
    },
    {
      "cell_type": "markdown",
      "metadata": {
        "id": "Vg0a9aYI-FFN"
      },
      "source": [
        "Q11. Program to Check Whether a Number is Positive or Negative"
      ]
    },
    {
      "cell_type": "code",
      "metadata": {
        "id": "jOkZDDTS-JJ1",
        "outputId": "6abb66b8-8a32-4316-eb48-00a487dfbc61",
        "colab": {
          "base_uri": "https://localhost:8080/"
        }
      },
      "source": [
        "num = float(input(\"Enter a number: \"))\r\n",
        "if num >= 0:\r\n",
        "   if num == 0:\r\n",
        "       print(\"Zero\")\r\n",
        "   else:\r\n",
        "       print(\"Positive number\")\r\n",
        "else:\r\n",
        "   print(\"Negative number\")"
      ],
      "execution_count": 51,
      "outputs": [
        {
          "output_type": "stream",
          "text": [
            "Enter a number: 2\n",
            "Positive number\n"
          ],
          "name": "stdout"
        }
      ]
    },
    {
      "cell_type": "markdown",
      "metadata": {
        "id": "4JipLVLf-RiS"
      },
      "source": [
        "Q12. Program to Calculate the Sum of Natural Numbers"
      ]
    },
    {
      "cell_type": "code",
      "metadata": {
        "id": "r-OGv45u-Xuq",
        "outputId": "f8d176c0-0a3e-4e06-dac9-885759922fe5",
        "colab": {
          "base_uri": "https://localhost:8080/"
        }
      },
      "source": [
        "num = int(input(\"Enter a number: \"))  \r\n",
        "if num < 0:  \r\n",
        "   print(\"Enter a positive number\")  \r\n",
        "else:  \r\n",
        "   sum = 0  \r\n",
        "   # use while loop to iterate un till zero  \r\n",
        "   while(num > 0):  \r\n",
        "       sum += num  \r\n",
        "       num -= 1  \r\n",
        "   print(\"The sum is\",sum)"
      ],
      "execution_count": 53,
      "outputs": [
        {
          "output_type": "stream",
          "text": [
            "Enter a number: 4\n",
            "The sum is 10\n"
          ],
          "name": "stdout"
        }
      ]
    },
    {
      "cell_type": "markdown",
      "metadata": {
        "id": "2ejcj2Mn-4-1"
      },
      "source": [
        "Q13. Program to Find Factorial of a Number"
      ]
    },
    {
      "cell_type": "code",
      "metadata": {
        "id": "SFdPgTiz-9db",
        "outputId": "9af29c87-0e2d-49f0-ad1a-014aacdc3b75",
        "colab": {
          "base_uri": "https://localhost:8080/"
        }
      },
      "source": [
        "num = int(input(\"Enter a number: \"))  \r\n",
        "factorial = 1  \r\n",
        "if num < 0:  \r\n",
        "   print(\"Sorry, factorial does not exist for negative numbers\")  \r\n",
        "elif num == 0:  \r\n",
        "   print(\"The factorial of 0 is 1\")  \r\n",
        "else:  \r\n",
        "   for i in range(1,num + 1):  \r\n",
        "       factorial = factorial*i  \r\n",
        "   print(\"The factorial of\",num,\"is\",factorial)  "
      ],
      "execution_count": 54,
      "outputs": [
        {
          "output_type": "stream",
          "text": [
            "Enter a number: 5\n",
            "The factorial of 5 is 120\n"
          ],
          "name": "stdout"
        }
      ]
    },
    {
      "cell_type": "markdown",
      "metadata": {
        "id": "WoapZJ4E_EUH"
      },
      "source": [
        "Q14. Program to Generate Multiplication Table"
      ]
    },
    {
      "cell_type": "code",
      "metadata": {
        "id": "d_J_TZCE_Ids",
        "outputId": "a4ebab1d-c404-4d25-8007-452ed965d638",
        "colab": {
          "base_uri": "https://localhost:8080/"
        }
      },
      "source": [
        "num = int(input(\"Enter the number: \"))\r\n",
        "\r\n",
        "print(\"Multiplication Table of\", num)\r\n",
        "for i in range(1, 11):\r\n",
        "   print(num,\"X\",i,\"=\",num * i)"
      ],
      "execution_count": 55,
      "outputs": [
        {
          "output_type": "stream",
          "text": [
            "Enter the number: 4\n",
            "Multiplication Table of 4\n",
            "4 X 1 = 4\n",
            "4 X 2 = 8\n",
            "4 X 3 = 12\n",
            "4 X 4 = 16\n",
            "4 X 5 = 20\n",
            "4 X 6 = 24\n",
            "4 X 7 = 28\n",
            "4 X 8 = 32\n",
            "4 X 9 = 36\n",
            "4 X 10 = 40\n"
          ],
          "name": "stdout"
        }
      ]
    },
    {
      "cell_type": "markdown",
      "metadata": {
        "id": "P2vZ6qMb_WzD"
      },
      "source": [
        "Q15. Program to Display Fibonacci Sequence"
      ]
    },
    {
      "cell_type": "code",
      "metadata": {
        "id": "GBKUeM9O_bDx",
        "outputId": "a86365f8-fee1-469e-f8ae-980aee7f4529",
        "colab": {
          "base_uri": "https://localhost:8080/"
        }
      },
      "source": [
        "\r\n",
        "nterms = int(input(\"How many terms you want? \"))  \r\n",
        "n1 = 0  \r\n",
        "n2 = 1  \r\n",
        "count = 2  \r\n",
        "if nterms <= 0:  \r\n",
        "   print(\"Plese enter a positive integer\")  \r\n",
        "elif nterms == 1:  \r\n",
        "   print(\"Fibonacci sequence:\")  \r\n",
        "   print(n1)  \r\n",
        "else:  \r\n",
        "   print(\"Fibonacci sequence:\")  \r\n",
        "   print(n1,\",\",n2,end=', ')  \r\n",
        "   while count < nterms:  \r\n",
        "       nth = n1 + n2  \r\n",
        "       print(nth,end=' , ')  \r\n",
        "       # update values  \r\n",
        "       n1 = n2  \r\n",
        "       n2 = nth  \r\n",
        "       count += 1 "
      ],
      "execution_count": 28,
      "outputs": [
        {
          "output_type": "stream",
          "text": [
            "How many terms you want? 5\n",
            "Fibonacci sequence:\n",
            "0 , 1, 1 , 2 , 3 , "
          ],
          "name": "stdout"
        }
      ]
    },
    {
      "cell_type": "markdown",
      "metadata": {
        "id": "OwbLgmyU_oSW"
      },
      "source": [
        "Q16. Program to Find LCM of two Numbers"
      ]
    },
    {
      "cell_type": "code",
      "metadata": {
        "id": "Rv7-W-F4AhHj",
        "outputId": "0cac0d77-104b-4a08-a0e5-55a2657e1777",
        "colab": {
          "base_uri": "https://localhost:8080/"
        }
      },
      "source": [
        "a=int(input(\"Enter the first number:\"))\r\n",
        "b=int(input(\"Enter the second number:\"))\r\n",
        "if(a>b):\r\n",
        "    min1=a\r\n",
        "else:\r\n",
        "    min1=b\r\n",
        "while(1):\r\n",
        "    if(min1%a==0 and min1%b==0):\r\n",
        "        print(\"LCM is:\",min1)\r\n",
        "        break\r\n",
        "    min1=min1+1"
      ],
      "execution_count": 34,
      "outputs": [
        {
          "output_type": "stream",
          "text": [
            "Enter the first number:2\n",
            "Enter the second number:4\n",
            "LCM is: 4\n"
          ],
          "name": "stdout"
        }
      ]
    },
    {
      "cell_type": "markdown",
      "metadata": {
        "id": "o4SiwiVZAnA7"
      },
      "source": [
        "Q17. Program to Count Number of Digits in an Integer"
      ]
    },
    {
      "cell_type": "code",
      "metadata": {
        "id": "3U3DDgqHAsjZ",
        "outputId": "f62b6f59-bbc5-45b7-bb9d-f12dd54813a2",
        "colab": {
          "base_uri": "https://localhost:8080/"
        }
      },
      "source": [
        "\r\n",
        "num = int(input(\"Enter a number \\n\"))\r\n",
        "count = 0\r\n",
        " \r\n",
        "#counting number of digits in 'num'\r\n",
        "while num>0:\r\n",
        "    count +=1\r\n",
        "    num = num//10;\r\n",
        "    \r\n",
        "print(\"Number of Digits: %d\"%count)"
      ],
      "execution_count": 36,
      "outputs": [
        {
          "output_type": "stream",
          "text": [
            "Enter a number \n",
            "2345\n",
            "Number of Digits: 4\n"
          ],
          "name": "stdout"
        }
      ]
    },
    {
      "cell_type": "markdown",
      "metadata": {
        "id": "kIDLsttNA35a"
      },
      "source": [
        "Q18. Program to Reverse a Number"
      ]
    },
    {
      "cell_type": "code",
      "metadata": {
        "id": "Coy6Y_5hA8oq",
        "outputId": "e011ab1e-ebf5-4085-eac3-a3771dd12bbe",
        "colab": {
          "base_uri": "https://localhost:8080/"
        }
      },
      "source": [
        "n=int(input(\"Enter number: \"))\r\n",
        "rev=0\r\n",
        "while(n>0):\r\n",
        "    dig=n%10\r\n",
        "    rev=rev*10+dig\r\n",
        "    n=n//10\r\n",
        "print(\"Reverse of the number:\",rev)"
      ],
      "execution_count": 37,
      "outputs": [
        {
          "output_type": "stream",
          "text": [
            "Enter number: 345\n",
            "Reverse of the number: 543\n"
          ],
          "name": "stdout"
        }
      ]
    },
    {
      "cell_type": "markdown",
      "metadata": {
        "id": "4NAF5bNTBCpr"
      },
      "source": [
        "Q19. Program to Calculate the Power of a Number"
      ]
    },
    {
      "cell_type": "code",
      "metadata": {
        "id": "l6BqhNehBJJI",
        "outputId": "58ddfec1-89fe-4fd7-9d19-d7a864ba7f66",
        "colab": {
          "base_uri": "https://localhost:8080/"
        }
      },
      "source": [
        "\r\n",
        "\r\n",
        "\r\n",
        "def power(base,exp):\r\n",
        "    if(exp==1):\r\n",
        "        return(base)\r\n",
        "    if(exp!=1):\r\n",
        "        return(base*power(base,exp-1))\r\n",
        "base=int(input(\"Enter base: \"))\r\n",
        "exp=int(input(\"Enter exponential value: \"))\r\n",
        "print(\"Result:\",power(base,exp))"
      ],
      "execution_count": 38,
      "outputs": [
        {
          "output_type": "stream",
          "text": [
            "Enter base: 2\n",
            "Enter exponential value: 10\n",
            "Result: 1024\n"
          ],
          "name": "stdout"
        }
      ]
    },
    {
      "cell_type": "markdown",
      "metadata": {
        "id": "7Ulpd347BdEq"
      },
      "source": [
        "Q20. Program to Check Whether a Number is Palindrome or not"
      ]
    },
    {
      "cell_type": "code",
      "metadata": {
        "id": "wmETbiA4Bksl",
        "outputId": "f0cafbb8-dd52-44b5-f808-f45541247d44",
        "colab": {
          "base_uri": "https://localhost:8080/"
        }
      },
      "source": [
        "\r\n",
        "n=int(input(\"Enter number:\"))\r\n",
        "temp=n\r\n",
        "rev=0\r\n",
        "while(n>0):\r\n",
        "    dig=n%10\r\n",
        "    rev=rev*10+dig\r\n",
        "    n=n//10\r\n",
        "if(temp==rev):\r\n",
        "    print(\"The number is a palindrome!\")\r\n",
        "else:\r\n",
        "    print(\"The number isn't a palindrome!\")"
      ],
      "execution_count": 40,
      "outputs": [
        {
          "output_type": "stream",
          "text": [
            "Enter number:123321\n",
            "The number is a palindrome!\n"
          ],
          "name": "stdout"
        }
      ]
    }
  ]
}
