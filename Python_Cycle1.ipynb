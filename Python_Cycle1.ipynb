{
  "nbformat": 4,
  "nbformat_minor": 0,
  "metadata": {
    "colab": {
      "name": "Python Cycle1",
      "provenance": [],
      "authorship_tag": "ABX9TyPIkVEQEd8zZAAnDY41sS3Q",
      "include_colab_link": true
    },
    "kernelspec": {
      "name": "python3",
      "display_name": "Python 3"
    }
  },
  "cells": [
    {
      "cell_type": "markdown",
      "metadata": {
        "id": "view-in-github",
        "colab_type": "text"
      },
      "source": [
        "<a href=\"https://colab.research.google.com/github/rinu48/Python/blob/main/Python_Cycle1.ipynb\" target=\"_parent\"><img src=\"https://colab.research.google.com/assets/colab-badge.svg\" alt=\"Open In Colab\"/></a>"
      ]
    },
    {
      "cell_type": "markdown",
      "metadata": {
        "id": "yJg8j3c23zT4"
      },
      "source": [
        "Q1. Write a program to demonstrate basic data type in python\r\n",
        "\"Hello, World!\" Program"
      ]
    },
    {
      "cell_type": "code",
      "metadata": {
        "id": "GxioxFj75TFi",
        "outputId": "282ca9b0-9184-40de-eeb6-1a9a0436558f",
        "colab": {
          "base_uri": "https://localhost:8080/"
        }
      },
      "source": [
        "print(\"hello world\")"
      ],
      "execution_count": 2,
      "outputs": [
        {
          "output_type": "stream",
          "text": [
            "hello world\n"
          ],
          "name": "stdout"
        }
      ]
    },
    {
      "cell_type": "markdown",
      "metadata": {
        "id": "NlyEt_LS5ZCv"
      },
      "source": [
        "Q2.Program to Print an Integer (Entered by the User)"
      ]
    },
    {
      "cell_type": "code",
      "metadata": {
        "id": "bss_AHum5kjF",
        "outputId": "4c638e9b-f3c0-4a25-c5dc-760887650aa3",
        "colab": {
          "base_uri": "https://localhost:8080/"
        }
      },
      "source": [
        "a=int(input(\"enter the integer:\"))\r\n",
        "print(a)"
      ],
      "execution_count": 4,
      "outputs": [
        {
          "output_type": "stream",
          "text": [
            "enter the integer:2\n",
            "2\n"
          ],
          "name": "stdout"
        }
      ]
    },
    {
      "cell_type": "markdown",
      "metadata": {
        "id": "T_BF_mkx5x_b"
      },
      "source": [
        "Q3.Program to Add Two Integers"
      ]
    },
    {
      "cell_type": "code",
      "metadata": {
        "id": "MJdtNtwy54hR",
        "outputId": "6d745cc6-b354-49cc-e01d-50003dd20729",
        "colab": {
          "base_uri": "https://localhost:8080/"
        }
      },
      "source": [
        "a=int(input(\"Enter first number:\"))\r\n",
        "b=int(input(\"Enter second number:\"))\r\n",
        "sum = a+b\r\n",
        "print(\"sum :\",sum)"
      ],
      "execution_count": 5,
      "outputs": [
        {
          "output_type": "stream",
          "text": [
            "Enter first number:2\n",
            "Enter second number:3\n",
            "sum : 5\n"
          ],
          "name": "stdout"
        }
      ]
    },
    {
      "cell_type": "markdown",
      "metadata": {
        "id": "DBJwiIlo6Bd4"
      },
      "source": [
        ""
      ]
    }
  ]
}