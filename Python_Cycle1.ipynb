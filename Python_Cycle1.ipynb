{
  "nbformat": 4,
  "nbformat_minor": 0,
  "metadata": {
    "colab": {
      "name": "Python_Cycle1.ipynb",
      "provenance": [],
      "include_colab_link": true
    },
    "kernelspec": {
      "name": "python3",
      "display_name": "Python 3"
    }
  },
  "cells": [
    {
      "cell_type": "markdown",
      "metadata": {
        "id": "view-in-github",
        "colab_type": "text"
      },
      "source": [
        "<a href=\"https://colab.research.google.com/github/rinu48/Python/blob/main/Python_Cycle1.ipynb\" target=\"_parent\"><img src=\"https://colab.research.google.com/assets/colab-badge.svg\" alt=\"Open In Colab\"/></a>"
      ]
    },
    {
      "cell_type": "markdown",
      "metadata": {
        "id": "yJg8j3c23zT4"
      },
      "source": [
        "Q1. Hello, World!\" Program"
      ]
    },
    {
      "cell_type": "code",
      "metadata": {
        "colab": {
          "base_uri": "https://localhost:8080/"
        },
        "id": "GxioxFj75TFi",
        "outputId": "790aab23-4acf-4aa1-cd55-79e6a5ccbc3d"
      },
      "source": [
        "print(\"hello world\")"
      ],
      "execution_count": 2,
      "outputs": [
        {
          "output_type": "stream",
          "text": [
            "hello world\n"
          ],
          "name": "stdout"
        }
      ]
    },
    {
      "cell_type": "markdown",
      "metadata": {
        "id": "NlyEt_LS5ZCv"
      },
      "source": [
        "Q2. Program to Print an Integer (Entered by the User)"
      ]
    },
    {
      "cell_type": "code",
      "metadata": {
        "colab": {
          "base_uri": "https://localhost:8080/"
        },
        "id": "bss_AHum5kjF",
        "outputId": "cf707d34-1489-4f19-db3b-c67218c5750e"
      },
      "source": [
        "a=int(input(\"enter the integer:\"))\r\n",
        "print(a)"
      ],
      "execution_count": 3,
      "outputs": [
        {
          "output_type": "stream",
          "text": [
            "enter the integer:3\n",
            "3\n"
          ],
          "name": "stdout"
        }
      ]
    },
    {
      "cell_type": "markdown",
      "metadata": {
        "id": "T_BF_mkx5x_b"
      },
      "source": [
        "Q3. Program to Add Two Integers"
      ]
    },
    {
      "cell_type": "code",
      "metadata": {
        "colab": {
          "base_uri": "https://localhost:8080/"
        },
        "id": "MJdtNtwy54hR",
        "outputId": "53ee9b21-109d-45a2-d82a-647c3e2006b5"
      },
      "source": [
        "a=int(input(\"Enter first number:\"))\r\n",
        "b=int(input(\"Enter second number:\"))\r\n",
        "sum = a+b\r\n",
        "print(\"sum :\",sum)"
      ],
      "execution_count": 4,
      "outputs": [
        {
          "output_type": "stream",
          "text": [
            "Enter first number:2\n",
            "Enter second number:3\n",
            "sum : 5\n"
          ],
          "name": "stdout"
        }
      ]
    },
    {
      "cell_type": "markdown",
      "metadata": {
        "id": "DBJwiIlo6Bd4"
      },
      "source": [
        "Q4. Program to Multiply Two Floating-Point Numbers"
      ]
    },
    {
      "cell_type": "code",
      "metadata": {
        "colab": {
          "base_uri": "https://localhost:8080/"
        },
        "id": "F41LOmmG6fPw",
        "outputId": "0fdbb3a3-e60e-41b3-9c0e-ed8bd7cf56c7"
      },
      "source": [
        "num1=float(input(\"Enter first number: \"))\r\n",
        "num2=float(input(\"Enter second number: \"))\r\n",
        "mul=num1*num2\r\n",
        "print(\"the product of given numbers is:\",mul)"
      ],
      "execution_count": 5,
      "outputs": [
        {
          "output_type": "stream",
          "text": [
            "Enter first number: 2.2\n",
            "Enter second number: 3.2\n",
            "the product of given numbers is: 7.040000000000001\n"
          ],
          "name": "stdout"
        }
      ]
    },
    {
      "cell_type": "markdown",
      "metadata": {
        "id": "RRD1cKK26oBW"
      },
      "source": [
        "Q5. Program to Compute Quotient and Remainder"
      ]
    },
    {
      "cell_type": "code",
      "metadata": {
        "colab": {
          "base_uri": "https://localhost:8080/"
        },
        "id": "E8W7oZV96vP7",
        "outputId": "4a32f7f9-11f5-4561-e8eb-396ae0f9fde2"
      },
      "source": [
        "a = int(input(\"Enter the first number: \"))\r\n",
        "b = int(input(\"Enter the second number: \"))\r\n",
        "quotient = a//b\r\n",
        "remainder = a%b\r\n",
        "print(\"Quotient is:\", quotient)\r\n",
        "print(\"Remainder is:\", remainder)"
      ],
      "execution_count": 6,
      "outputs": [
        {
          "output_type": "stream",
          "text": [
            "Enter the first number: 6\n",
            "Enter the second number: 3\n",
            "Quotient is: 2\n",
            "Remainder is: 0\n"
          ],
          "name": "stdout"
        }
      ]
    },
    {
      "cell_type": "markdown",
      "metadata": {
        "id": "kMqbsU6k63uo"
      },
      "source": [
        "Q6. Program to Swap Two Numbers"
      ]
    },
    {
      "cell_type": "code",
      "metadata": {
        "colab": {
          "base_uri": "https://localhost:8080/"
        },
        "id": "82J5Etbw6_E9",
        "outputId": "03ae02b9-016c-4f5e-8b5c-76a007caf48b"
      },
      "source": [
        "num1 = (input(\"Enter First Number: \"))\r\n",
        "num2 = (input(\"Enter Second Number: \"))\r\n",
        "print(\"Value of num1 before swapping: \", num1)\r\n",
        "print(\"Value of num2 before swapping: \", num2)\r\n",
        "temp = num1\r\n",
        "num1 = num2\r\n",
        "num2 = temp\r\n",
        "print(\"Value of num1 after swapping: \", num1)\r\n",
        "print(\"Value of num2 after swapping: \", num2)"
      ],
      "execution_count": 7,
      "outputs": [
        {
          "output_type": "stream",
          "text": [
            "Enter First Number: 8\n",
            "Enter Second Number: 7\n",
            "Value of num1 before swapping:  8\n",
            "Value of num2 before swapping:  7\n",
            "Value of num1 after swapping:  7\n",
            "Value of num2 after swapping:  8\n"
          ],
          "name": "stdout"
        }
      ]
    },
    {
      "cell_type": "markdown",
      "metadata": {
        "id": "bMSYxMq_7Ihm"
      },
      "source": [
        "Q7. Program to Check Whether a Number is Even or Odd"
      ]
    },
    {
      "cell_type": "code",
      "metadata": {
        "colab": {
          "base_uri": "https://localhost:8080/"
        },
        "id": "iezqcXG58Fw0",
        "outputId": "347d8b97-bc60-4508-87cb-3ba8ff131a61"
      },
      "source": [
        "num = int(input(\"Enter a number: \"))\r\n",
        "if (num % 2) == 0:\r\n",
        "   print(\"{0} is Even\".format(num))\r\n",
        "else:\r\n",
        "   print(\"{0} is Odd\".format(num))"
      ],
      "execution_count": 8,
      "outputs": [
        {
          "output_type": "stream",
          "text": [
            "Enter a number: 5\n",
            "5 is Odd\n"
          ],
          "name": "stdout"
        }
      ]
    },
    {
      "cell_type": "markdown",
      "metadata": {
        "id": "krXN2yMp8KFz"
      },
      "source": [
        "Q8. Program to Check Whether a Character is a Vowel or Consonant"
      ]
    },
    {
      "cell_type": "code",
      "metadata": {
        "colab": {
          "base_uri": "https://localhost:8080/"
        },
        "id": "vkkdp-IP8_ql",
        "outputId": "e72be8ca-7953-42f5-d360-0d8b47e1238e"
      },
      "source": [
        "ch = input(\"Enter a character: \")\r\n",
        "\r\n",
        "if(ch=='A' or ch=='a' or ch=='E' or ch =='e' or ch=='I'\r\n",
        " or ch=='i' or ch=='O' or ch=='o' or ch=='U' or ch=='u'):\r\n",
        "    print(ch, \"is a Vowel\")\r\n",
        "else:\r\n",
        "    print(ch, \"is a Consonant\")"
      ],
      "execution_count": 9,
      "outputs": [
        {
          "output_type": "stream",
          "text": [
            "Enter a character: a\n",
            "a is a Vowel\n"
          ],
          "name": "stdout"
        }
      ]
    },
    {
      "cell_type": "markdown",
      "metadata": {
        "id": "pmIg7OpY9eRs"
      },
      "source": [
        "Q9. Program to Find the Largest Number Among Three Numbers"
      ]
    },
    {
      "cell_type": "code",
      "metadata": {
        "colab": {
          "base_uri": "https://localhost:8080/"
        },
        "id": "0_4_X5Cl9lZQ",
        "outputId": "031aa0de-0133-47e6-93e5-6f1252880077"
      },
      "source": [
        "num1 = float(input(\"Enter first number: \"))\r\n",
        "num2 = float(input(\"Enter second number: \"))\r\n",
        "num3 = float(input(\"Enter third number: \"))\r\n",
        "if (num1 >= num2) and (num1 >= num3):\r\n",
        "   largest = num1\r\n",
        "elif (num2 >= num1) and (num2 >= num3):\r\n",
        "   largest = num2\r\n",
        "else:\r\n",
        "   largest = num3\r\n",
        "print(\"The largest number is\", largest)"
      ],
      "execution_count": 10,
      "outputs": [
        {
          "output_type": "stream",
          "text": [
            "Enter first number: 5\n",
            "Enter second number: 8\n",
            "Enter third number: 2\n",
            "The largest number is 8.0\n"
          ],
          "name": "stdout"
        }
      ]
    },
    {
      "cell_type": "markdown",
      "metadata": {
        "id": "S7PBTKyn92cl"
      },
      "source": [
        "Q10. Program to Check Leap Year"
      ]
    },
    {
      "cell_type": "code",
      "metadata": {
        "colab": {
          "base_uri": "https://localhost:8080/"
        },
        "id": "6r9V-DKf97cK",
        "outputId": "6881a773-577a-4a02-d41d-c76091d54521"
      },
      "source": [
        "year = int(input(\"Enter a year: \"))\r\n",
        "if (year % 4) == 0:\r\n",
        "   if (year % 100) == 0:\r\n",
        "       if (year % 400) == 0:\r\n",
        "           print(\"{0} is a leap year\".format(year))\r\n",
        "       else:\r\n",
        "           print(\"{0} is not a leap year\".format(year))\r\n",
        "   else:\r\n",
        "       print(\"{0} is a leap year\".format(year))\r\n",
        "else:\r\n",
        "   print(\"{0} is not a leap year\".format(year))"
      ],
      "execution_count": 11,
      "outputs": [
        {
          "output_type": "stream",
          "text": [
            "Enter a year: 2012\n",
            "2012 is a leap year\n"
          ],
          "name": "stdout"
        }
      ]
    },
    {
      "cell_type": "markdown",
      "metadata": {
        "id": "Vg0a9aYI-FFN"
      },
      "source": [
        "Q11. Program to Check Whether a Number is Positive or Negative"
      ]
    },
    {
      "cell_type": "code",
      "metadata": {
        "colab": {
          "base_uri": "https://localhost:8080/"
        },
        "id": "jOkZDDTS-JJ1",
        "outputId": "4141a84f-3668-471a-dd29-4f08a4df3cc0"
      },
      "source": [
        "num = float(input(\"Enter a number: \"))\r\n",
        "if num >= 0:\r\n",
        "   if num == 0:\r\n",
        "       print(\"Zero\")\r\n",
        "   else:\r\n",
        "       print(\"Positive number\")\r\n",
        "else:\r\n",
        "   print(\"Negative number\")"
      ],
      "execution_count": 12,
      "outputs": [
        {
          "output_type": "stream",
          "text": [
            "Enter a number: 6\n",
            "Positive number\n"
          ],
          "name": "stdout"
        }
      ]
    },
    {
      "cell_type": "markdown",
      "metadata": {
        "id": "4JipLVLf-RiS"
      },
      "source": [
        "Q12. Program to Calculate the Sum of Natural Numbers"
      ]
    },
    {
      "cell_type": "code",
      "metadata": {
        "colab": {
          "base_uri": "https://localhost:8080/"
        },
        "id": "r-OGv45u-Xuq",
        "outputId": "0a682873-6abd-4b97-a164-402f26447131"
      },
      "source": [
        "num = int(input(\"Enter a number: \"))  \r\n",
        "if num < 0:  \r\n",
        "   print(\"Enter a positive number\")  \r\n",
        "else:  \r\n",
        "   sum = 0  \r\n",
        "   # use while loop to iterate un till zero  \r\n",
        "   while(num > 0):  \r\n",
        "       sum += num  \r\n",
        "       num -= 1  \r\n",
        "   print(\"The sum is\",sum)"
      ],
      "execution_count": 14,
      "outputs": [
        {
          "output_type": "stream",
          "text": [
            "Enter a number: 8\n",
            "The sum is 36\n"
          ],
          "name": "stdout"
        }
      ]
    },
    {
      "cell_type": "markdown",
      "metadata": {
        "id": "2ejcj2Mn-4-1"
      },
      "source": [
        "Q13. Program to Find Factorial of a Number"
      ]
    },
    {
      "cell_type": "code",
      "metadata": {
        "colab": {
          "base_uri": "https://localhost:8080/"
        },
        "id": "SFdPgTiz-9db",
        "outputId": "c18d05ff-36fc-42f5-b958-f96bf7ead084"
      },
      "source": [
        "num = int(input(\"Enter a number: \"))  \r\n",
        "factorial = 1  \r\n",
        "if num < 0:  \r\n",
        "   print(\"Sorry, factorial does not exist for negative numbers\")  \r\n",
        "elif num == 0:  \r\n",
        "   print(\"The factorial of 0 is 1\")  \r\n",
        "else:  \r\n",
        "   for i in range(1,num + 1):  \r\n",
        "       factorial = factorial*i  \r\n",
        "   print(\"The factorial of\",num,\"is\",factorial)  "
      ],
      "execution_count": 15,
      "outputs": [
        {
          "output_type": "stream",
          "text": [
            "Enter a number: 8\n",
            "The factorial of 8 is 40320\n"
          ],
          "name": "stdout"
        }
      ]
    },
    {
      "cell_type": "markdown",
      "metadata": {
        "id": "WoapZJ4E_EUH"
      },
      "source": [
        "Q14. Program to Generate Multiplication Table"
      ]
    },
    {
      "cell_type": "code",
      "metadata": {
        "colab": {
          "base_uri": "https://localhost:8080/"
        },
        "id": "d_J_TZCE_Ids",
        "outputId": "32706e37-e481-479d-d614-3fa38b8317dd"
      },
      "source": [
        "num = int(input(\"Enter the number: \"))\r\n",
        "\r\n",
        "print(\"Multiplication Table of\", num)\r\n",
        "for i in range(1, 11):\r\n",
        "   print(num,\"X\",i,\"=\",num * i)"
      ],
      "execution_count": 17,
      "outputs": [
        {
          "output_type": "stream",
          "text": [
            "Enter the number: 5\n",
            "Multiplication Table of 5\n",
            "5 X 1 = 5\n",
            "5 X 2 = 10\n",
            "5 X 3 = 15\n",
            "5 X 4 = 20\n",
            "5 X 5 = 25\n",
            "5 X 6 = 30\n",
            "5 X 7 = 35\n",
            "5 X 8 = 40\n",
            "5 X 9 = 45\n",
            "5 X 10 = 50\n"
          ],
          "name": "stdout"
        }
      ]
    },
    {
      "cell_type": "markdown",
      "metadata": {
        "id": "P2vZ6qMb_WzD"
      },
      "source": [
        "Q15. Program to Display Fibonacci Sequence"
      ]
    },
    {
      "cell_type": "code",
      "metadata": {
        "colab": {
          "base_uri": "https://localhost:8080/"
        },
        "id": "GBKUeM9O_bDx",
        "outputId": "20c79abc-0dd5-45a7-a1a4-90d9e1e820ff"
      },
      "source": [
        "\r\n",
        "nterms = int(input(\"How many terms you want? \"))  \r\n",
        "n1 = 0  \r\n",
        "n2 = 1  \r\n",
        "count = 2  \r\n",
        "if nterms <= 0:  \r\n",
        "   print(\"Plese enter a positive integer\")  \r\n",
        "elif nterms == 1:  \r\n",
        "   print(\"Fibonacci sequence:\")  \r\n",
        "   print(n1)  \r\n",
        "else:  \r\n",
        "   print(\"Fibonacci sequence:\")  \r\n",
        "   print(n1,\",\",n2,end=', ')  \r\n",
        "   while count < nterms:  \r\n",
        "       nth = n1 + n2  \r\n",
        "       print(nth,end=' , ')  \r\n",
        "       # update values  \r\n",
        "       n1 = n2  \r\n",
        "       n2 = nth  \r\n",
        "       count += 1 "
      ],
      "execution_count": 18,
      "outputs": [
        {
          "output_type": "stream",
          "text": [
            "How many terms you want? 5\n",
            "Fibonacci sequence:\n",
            "0 , 1, 1 , 2 , 3 , "
          ],
          "name": "stdout"
        }
      ]
    },
    {
      "cell_type": "markdown",
      "metadata": {
        "id": "OwbLgmyU_oSW"
      },
      "source": [
        "Q16. Program to Find LCM of two Numbers"
      ]
    },
    {
      "cell_type": "code",
      "metadata": {
        "colab": {
          "base_uri": "https://localhost:8080/"
        },
        "id": "Rv7-W-F4AhHj",
        "outputId": "5c40f639-334d-43e9-ac59-b1c1a7e410ba"
      },
      "source": [
        "a=int(input(\"Enter the first number:\"))\r\n",
        "b=int(input(\"Enter the second number:\"))\r\n",
        "if(a>b):\r\n",
        "    min1=a\r\n",
        "else:\r\n",
        "    min1=b\r\n",
        "while(1):\r\n",
        "    if(min1%a==0 and min1%b==0):\r\n",
        "        print(\"LCM is:\",min1)\r\n",
        "        break\r\n",
        "    min1=min1+1"
      ],
      "execution_count": 19,
      "outputs": [
        {
          "output_type": "stream",
          "text": [
            "Enter the first number:2\n",
            "Enter the second number:4\n",
            "LCM is: 4\n"
          ],
          "name": "stdout"
        }
      ]
    },
    {
      "cell_type": "markdown",
      "metadata": {
        "id": "o4SiwiVZAnA7"
      },
      "source": [
        "Q17. Program to Count Number of Digits in an Integer"
      ]
    },
    {
      "cell_type": "code",
      "metadata": {
        "colab": {
          "base_uri": "https://localhost:8080/"
        },
        "id": "3U3DDgqHAsjZ",
        "outputId": "1cef5aac-c9f1-4e3c-9c19-d2e72f992ffa"
      },
      "source": [
        "\r\n",
        "num = int(input(\"Enter a number \\n\"))\r\n",
        "count = 0\r\n",
        " \r\n",
        "#counting number of digits in 'num'\r\n",
        "while num>0:\r\n",
        "    count +=1\r\n",
        "    num = num//10;\r\n",
        "    \r\n",
        "print(\"Number of Digits: %d\"%count)"
      ],
      "execution_count": 20,
      "outputs": [
        {
          "output_type": "stream",
          "text": [
            "Enter a number \n",
            "10985\n",
            "Number of Digits: 5\n"
          ],
          "name": "stdout"
        }
      ]
    },
    {
      "cell_type": "markdown",
      "metadata": {
        "id": "kIDLsttNA35a"
      },
      "source": [
        "Q18. Program to Reverse a Number"
      ]
    },
    {
      "cell_type": "code",
      "metadata": {
        "colab": {
          "base_uri": "https://localhost:8080/"
        },
        "id": "Coy6Y_5hA8oq",
        "outputId": "338472d0-789a-46d2-bc05-f912b61e3d8a"
      },
      "source": [
        "n=int(input(\"Enter number: \"))\r\n",
        "rev=0\r\n",
        "while(n>0):\r\n",
        "    dig=n%10\r\n",
        "    rev=rev*10+dig\r\n",
        "    n=n//10\r\n",
        "print(\"Reverse of the number:\",rev)"
      ],
      "execution_count": 21,
      "outputs": [
        {
          "output_type": "stream",
          "text": [
            "Enter number: 765\n",
            "Reverse of the number: 567\n"
          ],
          "name": "stdout"
        }
      ]
    },
    {
      "cell_type": "markdown",
      "metadata": {
        "id": "4NAF5bNTBCpr"
      },
      "source": [
        "Q19. Program to Calculate the Power of a Number"
      ]
    },
    {
      "cell_type": "code",
      "metadata": {
        "colab": {
          "base_uri": "https://localhost:8080/"
        },
        "id": "l6BqhNehBJJI",
        "outputId": "ddba674a-4321-4ac5-d133-856998e06500"
      },
      "source": [
        "\r\n",
        "\r\n",
        "\r\n",
        "def power(base,exp):\r\n",
        "    if(exp==1):\r\n",
        "        return(base)\r\n",
        "    if(exp!=1):\r\n",
        "        return(base*power(base,exp-1))\r\n",
        "base=int(input(\"Enter base: \"))\r\n",
        "exp=int(input(\"Enter exponential value: \"))\r\n",
        "print(\"Result:\",power(base,exp))"
      ],
      "execution_count": 23,
      "outputs": [
        {
          "output_type": "stream",
          "text": [
            "Enter base: 10\n",
            "Enter exponential value: 1\n",
            "Result: 10\n"
          ],
          "name": "stdout"
        }
      ]
    },
    {
      "cell_type": "markdown",
      "metadata": {
        "id": "7Ulpd347BdEq"
      },
      "source": [
        "Q20. Program to Check Whether a Number is Palindrome or not"
      ]
    },
    {
      "cell_type": "code",
      "metadata": {
        "colab": {
          "base_uri": "https://localhost:8080/"
        },
        "id": "wmETbiA4Bksl",
        "outputId": "9587c55a-9d12-4e44-b71a-11d12ee27df0"
      },
      "source": [
        "\r\n",
        "n=int(input(\"Enter number:\"))\r\n",
        "temp=n\r\n",
        "rev=0\r\n",
        "while(n>0):\r\n",
        "    dig=n%10\r\n",
        "    rev=rev*10+dig\r\n",
        "    n=n//10\r\n",
        "if(temp==rev):\r\n",
        "    print(\"The number is a palindrome!\")\r\n",
        "else:\r\n",
        "    print(\"The number isn't a palindrome!\")"
      ],
      "execution_count": 25,
      "outputs": [
        {
          "output_type": "stream",
          "text": [
            "Enter number:16461\n",
            "The number is a palindrome!\n"
          ],
          "name": "stdout"
        }
      ]
    }
  ]
}