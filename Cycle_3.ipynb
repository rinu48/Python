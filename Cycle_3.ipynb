{
  "nbformat": 4,
  "nbformat_minor": 0,
  "metadata": {
    "colab": {
      "name": "Cycle-3.ipynb",
      "provenance": [],
      "authorship_tag": "ABX9TyNGN9XLOazDB4BAE4nB46Zq",
      "include_colab_link": true
    },
    "kernelspec": {
      "name": "python3",
      "display_name": "Python 3"
    },
    "language_info": {
      "name": "python"
    }
  },
  "cells": [
    {
      "cell_type": "markdown",
      "metadata": {
        "id": "view-in-github",
        "colab_type": "text"
      },
      "source": [
        "<a href=\"https://colab.research.google.com/github/rinu48/Python/blob/main/Cycle_3.ipynb\" target=\"_parent\"><img src=\"https://colab.research.google.com/assets/colab-badge.svg\" alt=\"Open In Colab\"/></a>"
      ]
    },
    {
      "cell_type": "markdown",
      "metadata": {
        "id": "iOIFOUWHnLqr"
      },
      "source": [
        "1) Program to find the factorial of a number in python."
      ]
    },
    {
      "cell_type": "code",
      "metadata": {
        "colab": {
          "base_uri": "https://localhost:8080/"
        },
        "id": "zjUdA2EDnMzq",
        "outputId": "d7b2a91c-f629-4b2a-de8f-ea7e936b2a9a"
      },
      "source": [
        "n=int(input(\"enter any number : \"))\n",
        "fact=1\n",
        "i=1\n",
        "while i<=n:\n",
        "\tfact=fact*i\n",
        "\ti=i+1\n",
        "print(\"factorial of\",n,\"is\",fact)"
      ],
      "execution_count": 2,
      "outputs": [
        {
          "output_type": "stream",
          "text": [
            "enter any number : 4\n",
            "factorial of 4 is 24\n"
          ],
          "name": "stdout"
        }
      ]
    },
    {
      "cell_type": "markdown",
      "metadata": {
        "id": "clmRNwp8nV9Y"
      },
      "source": [
        "2) Generate Fibonacci series of N terms."
      ]
    },
    {
      "cell_type": "code",
      "metadata": {
        "colab": {
          "base_uri": "https://localhost:8080/"
        },
        "id": "p-SRqlSXnZcQ",
        "outputId": "d6f351d9-dd33-4273-995e-e50b2ddbefbd"
      },
      "source": [
        "n=int(input(\"enter the value of n : \"))\n",
        "a=0\n",
        "b=1\n",
        "sum=0\n",
        "count=1\n",
        "print(\"fibonacci series : \")\n",
        "while (count<=n):\n",
        "  print(sum,end=\" \")\n",
        "  count+=1\n",
        "  a=b\n",
        "  b=sum\n",
        "  sum=a+b"
      ],
      "execution_count": 3,
      "outputs": [
        {
          "output_type": "stream",
          "text": [
            "enter the value of n : 4\n",
            "fibonacci series : \n",
            "0 1 1 2 "
          ],
          "name": "stdout"
        }
      ]
    },
    {
      "cell_type": "markdown",
      "metadata": {
        "id": "eXcXhHr3nc-B"
      },
      "source": [
        "3) Find the sum of all items in a list ."
      ]
    },
    {
      "cell_type": "code",
      "metadata": {
        "id": "nHRDVhAZu6D1"
      },
      "source": [
        "\n",
        "#3) Find the sum of all items in a list .\n",
        "\n",
        "n=[]\n",
        "x=int(input(\"enter the limit of list elements : \"))\n",
        "for i in range(1,x+1):\n",
        "    a=int(input())\n",
        "    n.append(a)\n",
        "t=sum(n)\n",
        "print(\"sum of all element in this list is :\",t)"
      ],
      "execution_count": null,
      "outputs": []
    },
    {
      "cell_type": "markdown",
      "metadata": {
        "id": "QL7CNNF5njum"
      },
      "source": [
        "4) Generate a list of four digit numbers in a given range with all their digits even and the number is a perfect square"
      ]
    },
    {
      "cell_type": "code",
      "metadata": {
        "colab": {
          "base_uri": "https://localhost:8080/"
        },
        "id": "0hKh2OyznnM-",
        "outputId": "82fac172-9403-460e-9ddf-af817356c0c0"
      },
      "source": [
        "for i in range(1000,10000):\n",
        "  for j in range(32,100):\n",
        "    if i==j*j:\n",
        "      a=str(i)\n",
        "      if (int(a[0])%2==0 and int(a[1])%2==0 and int(a[2])%2==0 and int(a[3])%2==0):\n",
        "        print(i)"
      ],
      "execution_count": 12,
      "outputs": [
        {
          "output_type": "stream",
          "text": [
            "4624\n",
            "6084\n",
            "6400\n",
            "8464\n"
          ],
          "name": "stdout"
        }
      ]
    },
    {
      "cell_type": "markdown",
      "metadata": {
        "id": "-UTcKotfnrDu"
      },
      "source": [
        "5) Display the given pyramid with step number accepted from user. Eg: N=4"
      ]
    },
    {
      "cell_type": "code",
      "metadata": {
        "colab": {
          "base_uri": "https://localhost:8080/"
        },
        "id": "HqI2GUr1nz09",
        "outputId": "c27b37ca-15a3-455a-b9c9-566c105888be"
      },
      "source": [
        "def py(n):\n",
        "  x=1\n",
        "  for i in range(1, n+1):\n",
        "    for j in range(1, i+1):\n",
        "      print(x, end=\" \")\n",
        "      x=x+i\n",
        "    x=i+1\n",
        "    print(\"\\r\")\n",
        " \n",
        "n=int(input(\"enter the limit : \"))\n",
        "py(n)"
      ],
      "execution_count": 13,
      "outputs": [
        {
          "output_type": "stream",
          "text": [
            "enter the limit : 4\n",
            "1 \n",
            "2 4 \n",
            "3 6 9 \n",
            "4 8 12 16 \n"
          ],
          "name": "stdout"
        }
      ]
    },
    {
      "cell_type": "markdown",
      "metadata": {
        "id": "oNg35RHIn0x2"
      },
      "source": [
        "6) Count the number of characters (character frequency) in a string."
      ]
    },
    {
      "cell_type": "code",
      "metadata": {
        "colab": {
          "base_uri": "https://localhost:8080/"
        },
        "id": "L9GuEN59n3sL",
        "outputId": "dea76786-69a6-4f65-a21c-f0ba6d2370ba"
      },
      "source": [
        "def freq(s):\n",
        "  s=s.lower()\n",
        "  dict={}\n",
        "  for ch in s :\n",
        "    keys = dict.keys()\n",
        "    if ch in keys :\n",
        "      dict[ch]+=1\n",
        "    else:\n",
        "      dict[ch]=1\n",
        "  return dict\n",
        "s=input(\"enter any string : \")\n",
        "print(\"the character frequency of the given string\",s,\"are :\")\n",
        "print(freq(s))"
      ],
      "execution_count": 15,
      "outputs": [
        {
          "output_type": "stream",
          "text": [
            "enter any string : successfully\n",
            "the character frequency of the given string successfully are :\n",
            "{'s': 3, 'u': 2, 'c': 2, 'e': 1, 'f': 1, 'l': 2, 'y': 1}\n"
          ],
          "name": "stdout"
        }
      ]
    },
    {
      "cell_type": "markdown",
      "metadata": {
        "id": "d1ltE-E7n6nM"
      },
      "source": [
        "7) Add ‘ing’ at the end of a given string. If it already ends with ‘ing’, then add ‘ly’."
      ]
    },
    {
      "cell_type": "code",
      "metadata": {
        "colab": {
          "base_uri": "https://localhost:8080/"
        },
        "id": "NrhdJzbUn_K5",
        "outputId": "c443cbbe-6230-4f5b-f333-6c5ffa5d4837"
      },
      "source": [
        "s=input(\"enter any string : \")\n",
        "if s.endswith(\"ing\") :\n",
        "  s+=\"ly\"\n",
        "else :\n",
        "  s+=\"ing\"\n",
        "print(\"modified string : \",s)"
      ],
      "execution_count": 16,
      "outputs": [
        {
          "output_type": "stream",
          "text": [
            "enter any string : find\n",
            "modified string :  finding\n"
          ],
          "name": "stdout"
        }
      ]
    },
    {
      "cell_type": "markdown",
      "metadata": {
        "id": "tsDrz3QXoC4G"
      },
      "source": [
        "8) Accept a list of words and return length of longest word."
      ]
    },
    {
      "cell_type": "code",
      "metadata": {
        "colab": {
          "base_uri": "https://localhost:8080/"
        },
        "id": "RhEaKuVcoF0y",
        "outputId": "52f1b416-2a93-4f3d-be80-986dc53e516a"
      },
      "source": [
        "l=[]\n",
        "n= int(input(\"enter the number of elements in list : \"))\n",
        "for i in range(1,n+1):\n",
        "    x=input()\n",
        "    l.append(x)\n",
        "max=len(l[0])\n",
        "temp=l[0]\n",
        "for j in l:\n",
        "    if(len(j)>max):\n",
        "       max=len(j)\n",
        "       temp=j\n",
        "print(\"the word with the longest length is :\",temp)"
      ],
      "execution_count": 18,
      "outputs": [
        {
          "output_type": "stream",
          "text": [
            "enter the number of elements in list : 2\n",
            "man\n",
            "women\n",
            "the word with the longest length is : women\n"
          ],
          "name": "stdout"
        }
      ]
    },
    {
      "cell_type": "markdown",
      "metadata": {
        "id": "ZFVQbKouoIbt"
      },
      "source": [
        "9) Construct following pattern using nested loop :"
      ]
    },
    {
      "cell_type": "code",
      "metadata": {
        "colab": {
          "base_uri": "https://localhost:8080/"
        },
        "id": "r_aVwAb0oLhb",
        "outputId": "5c662533-0e36-46d6-8467-464ee4649e07"
      },
      "source": [
        "\n",
        "\n",
        "for i in range(5):\n",
        "  for j in range(i+1):\n",
        "    print(\"* \",end=\"\")\n",
        "  print()\n",
        "for i in range(4):\n",
        "  for j in range(i, 4):\n",
        "    print(\"* \",end=\"\")\n",
        "  print()"
      ],
      "execution_count": 25,
      "outputs": [
        {
          "output_type": "stream",
          "text": [
            "* \n",
            "* * \n",
            "* * * \n",
            "* * * * \n",
            "* * * * * \n",
            "* * * * \n",
            "* * * \n",
            "* * \n",
            "* \n"
          ],
          "name": "stdout"
        }
      ]
    },
    {
      "cell_type": "markdown",
      "metadata": {
        "id": "CAgNQTeLoPUP"
      },
      "source": [
        "10) Generate all factors of a number."
      ]
    },
    {
      "cell_type": "code",
      "metadata": {
        "colab": {
          "base_uri": "https://localhost:8080/"
        },
        "id": "hRGdQm35oVRU",
        "outputId": "f96b8855-14e2-4e99-8534-8c80eae5f045"
      },
      "source": [
        "n=int(input(\"enter any number : \"))\n",
        "i=1\n",
        "print(\"all factors of\",n,\"are :\")\n",
        "while i<=n:\n",
        "  if n%i==0:\n",
        "    print(i)\n",
        "  i=i+1"
      ],
      "execution_count": 26,
      "outputs": [
        {
          "output_type": "stream",
          "text": [
            "enter any number : 12\n",
            "all factors of 12 are :\n",
            "1\n",
            "2\n",
            "3\n",
            "4\n",
            "6\n",
            "12\n"
          ],
          "name": "stdout"
        }
      ]
    },
    {
      "cell_type": "markdown",
      "metadata": {
        "id": "Wo64_f3FobLr"
      },
      "source": [
        "11) Write lambda functions to find area of square, rectangle and triangle."
      ]
    },
    {
      "cell_type": "code",
      "metadata": {
        "colab": {
          "base_uri": "https://localhost:8080/"
        },
        "id": "keaUriYXol5v",
        "outputId": "8365a939-9e23-4910-b278-87d46ce5ed62"
      },
      "source": [
        "a=int(input(\"enter the side of square : \"))\n",
        "sq_area=lambda a:a**2\n",
        "print(\"area of the square is : \",sq_area(a))\n",
        "l=int(input(\"enter length : \"))\n",
        "w=int(input(\"enter width : \"))\n",
        "rect_area=lambda l,w : l*w\n",
        "print(\"area of the rectangle is : \",rect_area(l,w))\n",
        "a=int(input(\"enter the value of first side : \"))\n",
        "b=int(input(\"enter the value of second side : \"))\n",
        "c=int(input(\"enter the value of third side : \"))\n",
        "s=(a+b+c)/2\n",
        "t_area=lambda s,a,b,c : (s*(s-a)*(s-b)*(s-c))**0.5\n",
        "print(\"area of triangle :\",t_area(s,a,b,c))"
      ],
      "execution_count": 32,
      "outputs": [
        {
          "output_type": "stream",
          "text": [
            "enter the side of square : 3\n",
            "area of the square is :  9\n",
            "enter length : 2\n",
            "enter width : 4\n",
            "area of the rectangle is :  8\n",
            "enter the value of first side : 2\n",
            "enter the value of second side : 3\n",
            "enter the value of third side : 4\n",
            "area of triangle : 2.9047375096555625\n"
          ],
          "name": "stdout"
        }
      ]
    }
  ]
}